{
 "cells": [
  {
   "cell_type": "code",
   "execution_count": 2,
   "id": "1db3a9fa-8106-406d-a2c5-191976158d66",
   "metadata": {
    "slideshow": {
     "slide_type": "-"
    }
   },
   "outputs": [],
   "source": [
    "import numpy as np\n",
    "import pandas as pd"
   ]
  },
  {
   "cell_type": "code",
   "execution_count": 3,
   "id": "c33124f3",
   "metadata": {},
   "outputs": [],
   "source": [
    "data = pd.read_csv(r\"Iris.csv\")\n",
    "# 我们要通过花的三个属性预测第四个属性 所以Species & Id是多余的\n",
    "data.drop([\"Id\", \"Species\"], axis=1, inplace=True)\n",
    "# 删除重复记录\n",
    "data.drop_duplicates(inplace=True)"
   ]
  },
  {
   "cell_type": "code",
   "execution_count": null,
   "id": "78101587-bef4-4827-8ea7-9090fd32ed37",
   "metadata": {},
   "outputs": [],
   "source": [
    "class KNN:\n",
    "    \"\"\"\"\n",
    "    使用py 实现k近邻算法（回归预测）\n",
    "    该算法用于回归预测 根据前三个特征属性 寻找最近的K个近邻 然后再根据k个近邻的第四个%save征属性\n",
    "    预测样本的第四个特征值\n",
    "    \"\"\"\n",
    "    def __init_(self, k):\n",
    "        \"\"\"初始化方法 \n",
    "        \n",
    "        Parameters: \n",
    "        -----------\n",
    "        k : int \n",
    "            邻居的个数\n",
    "        \"\"\"\n",
    "        self.k = k\n",
    "    def fit(self, X, y):\n",
    "        \"\"\"训练方法\n",
    "        \n",
    "        Parameters:\n",
    "        ------------\n",
    "        X: 类数组类型（特征矩阵） 形状为（样本数量， 特征数量）\n",
    "           待训练的样本特征（属性）\n",
    "        y: 类数组类型（目标标签），形状为（样本数量）\n",
    "           每个样本的目标值（标签）\n",
    "        \"\"\"    \n",
    "        # 将X和y都转换成ndarray数组的形式 方便统一操作\n",
    "        self.X = np.asarray(X)\n",
    "        self.y = np.asarray(y)\n",
    "        \n",
    "    def predict(self, X):\n",
    "        \"\"\"根据参数传递的样本，预测样本数据\n",
    "        Parameters\n",
    "        ------\n",
    "        X : 类数组类型 形状为:[样本数量，特征数量]\n",
    "            待训练的样本特征(属性)\n",
    "        Returns\n",
    "        ------\n",
    "        result : 数组类型\n",
    "                预测的结果\n",
    "        \"\"\"\n",
    "        "
   ]
  }
 ],
 "metadata": {
  "celltoolbar": "无",
  "kernelspec": {
   "display_name": "Python 3 (ipykernel)",
   "language": "python",
   "name": "python3"
  },
  "language_info": {
   "codemirror_mode": {
    "name": "ipython",
    "version": 3
   },
   "file_extension": ".py",
   "mimetype": "text/x-python",
   "name": "python",
   "nbconvert_exporter": "python",
   "pygments_lexer": "ipython3",
   "version": "3.12.3"
  }
 },
 "nbformat": 4,
 "nbformat_minor": 5
}
