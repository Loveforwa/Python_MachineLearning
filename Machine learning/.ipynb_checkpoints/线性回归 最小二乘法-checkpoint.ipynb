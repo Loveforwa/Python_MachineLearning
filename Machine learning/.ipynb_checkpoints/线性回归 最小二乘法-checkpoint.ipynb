{
 "cells": [
  {
   "cell_type": "code",
   "execution_count": 37,
   "id": "d82a99e3",
   "metadata": {},
   "outputs": [],
   "source": [
    "import numpy as np\n",
    "import pandas as pd "
   ]
  },
  {
   "cell_type": "markdown",
   "id": "3cd44f0a",
   "metadata": {},
   "source": [
    "波士顿房价数据集字段说明\n",
    "* CRIM 房屋所在镇的犯罪率\n",
    "* ZN 面积大于25000平方英尺住宅所占的比例\n",
    "* INDUS 房屋所在镇非零售区所占比例\n",
    "* CHAS 房屋是否是位于河边的 如果位于河边则值为1 否则值为0\n",
    "* NOX 一氧化氮的浓度\n",
    "* RM 平均房间数量\n",
    "* AGE 1940年前建成房屋所占的比率\n",
    "* DIS 房屋距离波士顿五大就业中心的加权距离\n",
    "* RAD 距离房屋最近的公路\n",
    "* TAX 财产税收额度\n",
    "* PTRATIO 房屋所在镇师生的比例\n",
    "* B 是一个计算公式 ： 1000 * （房屋所在镇非美籍人口所占比率 - 0.63） ** 2\n",
    "* LSTAT 弱势群体人口所占比例\n",
    "* MDEV 房屋的平均价格"
   ]
  },
  {
   "cell_type": "code",
   "execution_count": 43,
   "id": "649214d7",
   "metadata": {},
   "outputs": [],
   "source": [
    "\n",
    "\n",
    "# data\n",
    "# 查看数据的基本信息 同时 也可以用来查看 各个特征列是否存在缺失值\n",
    "# data.info() 经过查看 一共506行 所有属性506行都是有值的\n",
    "# data.duplicated().any() False 没有重复值"
   ]
  },
  {
   "cell_type": "code",
   "execution_count": 46,
   "id": "5da9fd38",
   "metadata": {},
   "outputs": [],
   "source": [
    "class LinearRegression:\n",
    "    \"\"\"使用python实现的线性回归 (最小二乘法)\"\"\"\n",
    "    def fit(self, X, y):\n",
    "        \"\"\"根据提供的训练数据X 对模型进行训练\n",
    "        \n",
    "        Parameters\n",
    "        ------\n",
    "        X : 类数组类型 形状 ：[样本数量，特征数量]\n",
    "            特征矩阵， 用来对模型进行训练\n",
    "            \n",
    "        y ：类数组类型 形状 : [样本数量]\n",
    "        \n",
    "        \"\"\"\n",
    "        # 说明： 如果X是数组对象的一部分 而不是完整的对象数据（例如：X是由其它对象通过切片传递过来的）\n",
    "        # 则无法完成矩阵的转换\n",
    "        # 这里创建X的拷贝对象 避免创建转换矩阵的时候失败\n",
    "        X = np.asmatrix(X.copy())\n",
    "        # y不需要拷贝 是一维结构 可能是一个行向量或者列向量 可以不用拷贝\n",
    "        # 注意 ：转换完矩阵还要进行一个reshape 参数 -1 代表该维度的大小由 NumPy 依据数组的总元素数量和其他维度的大小自动计算得出\n",
    "        y = np.asmatrix(y).reshape(-1, 1)\n",
    "        # 通过最小二乘公式 求解出最佳的权重值\n",
    "        self.w_ = (X.T * X).I * X.T * y\n",
    "\n",
    "    def predict(self, X):\n",
    "        \"\"\"根据参数传递的样本X, 对样本数据进行预测\n",
    "        \n",
    "        Parameters\n",
    "        ------\n",
    "        X : 类数组类型 形状 ：[样本数量，特征数量]\n",
    "            待预测的样本特征(属性)\n",
    "        \n",
    "        Returns\n",
    "        ------\n",
    "        result: 数组类型 \n",
    "               预测的结果\n",
    "            \n",
    "        \"\"\"\n",
    "        # 将X转换成矩阵 注意 需要对X进行拷贝\n",
    "        X = np.asmatrix(X.copy())\n",
    "        result = X * self.w_\n",
    "        # 将result矩阵转换成ndarray数组 进行扁平化处理 然后返回结果\n",
    "        # 使用ravel可以将数组进行扁平化处理\n",
    "        return np.array(result).ravel()"
   ]
  },
  {
   "cell_type": "code",
   "execution_count": 50,
   "id": "246d3532",
   "metadata": {},
   "outputs": [
    {
     "data": {
      "text/plain": [
       "array([nan, nan, nan, nan, nan, nan, nan, nan, nan, nan, nan, nan, nan,\n",
       "       nan, nan, nan, nan, nan, nan, nan, nan, nan, nan, nan, nan, nan,\n",
       "       nan, nan, nan, nan, nan, nan, nan, nan, nan, nan, nan, nan, nan,\n",
       "       nan, nan, nan, nan, nan, nan, nan, nan, nan, nan, nan, nan, nan,\n",
       "       nan, nan, nan, nan, nan, nan, nan, nan, nan, nan, nan, nan, nan,\n",
       "       nan, nan, nan, nan, nan, nan, nan, nan, nan, nan, nan, nan, nan,\n",
       "       nan, nan, nan, nan, nan, nan, nan, nan, nan, nan, nan, nan, nan,\n",
       "       nan, nan, nan, nan, nan, nan, nan, nan, nan, nan, nan, nan, nan,\n",
       "       nan, nan])"
      ]
     },
     "execution_count": 50,
     "metadata": {},
     "output_type": "execute_result"
    }
   ],
   "source": [
    "# 不考虑截距\n",
    "data = pd.read_csv(r\"boston.csv\")\n",
    "t = data.sample(len(data),random_state=0)\n",
    "train_X = t.iloc[:400, :-1]\n",
    "train_y = t.iloc[:400, -1]\n",
    "test_X = t.iloc[400:, :-1]\n",
    "test_y = t.iloc[400:, -1]\n",
    "lr = LinearRegression()\n",
    "lr.fit(train_X, train_y)\n",
    "result = lr.predict(test_X)\n",
    "result\n",
    "\n"
   ]
  },
  {
   "cell_type": "code",
   "execution_count": null,
   "id": "c8ff6be8",
   "metadata": {},
   "outputs": [],
   "source": []
  }
 ],
 "metadata": {
  "kernelspec": {
   "display_name": "Python 3 (ipykernel)",
   "language": "python",
   "name": "python3"
  },
  "language_info": {
   "codemirror_mode": {
    "name": "ipython",
    "version": 3
   },
   "file_extension": ".py",
   "mimetype": "text/x-python",
   "name": "python",
   "nbconvert_exporter": "python",
   "pygments_lexer": "ipython3",
   "version": "3.12.3"
  }
 },
 "nbformat": 4,
 "nbformat_minor": 5
}
