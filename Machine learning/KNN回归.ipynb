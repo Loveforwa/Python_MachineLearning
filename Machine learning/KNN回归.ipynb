{
 "cells": [
  {
   "cell_type": "code",
   "execution_count": 2,
   "id": "1db3a9fa-8106-406d-a2c5-191976158d66",
   "metadata": {
    "slideshow": {
     "slide_type": "-"
    }
   },
   "outputs": [],
   "source": [
    "import numpy as np\n",
    "import pandas as pd"
   ]
  },
  {
   "cell_type": "code",
   "execution_count": 3,
   "id": "c33124f3",
   "metadata": {},
   "outputs": [],
   "source": [
    "data = pd.read_csv(r\"Iris.csv\")\n",
    "# 我们要通过花的三个属性预测第四个属性 所以Species & Id是多余的\n",
    "data.drop([\"Id\", \"Species\"], axis=1, inplace=True)\n",
    "# 删除重复记录\n",
    "data.drop_duplicates(inplace=True)"
   ]
  },
  {
   "cell_type": "code",
   "execution_count": 23,
   "id": "78101587-bef4-4827-8ea7-9090fd32ed37",
   "metadata": {},
   "outputs": [],
   "source": [
    "class KNN:\n",
    "    \"\"\"\"\n",
    "    使用py 实现k近邻算法（回归预测）\n",
    "    该算法用于回归预测 根据前三个特征属性 寻找最近的K个近邻 然后再根据k个近邻的第四个%save征属性\n",
    "    预测样本的第四个特征值\n",
    "    \"\"\"\n",
    "    def __init__(self, k):\n",
    "        \"\"\"初始化方法 \n",
    "        \n",
    "        Parameters: \n",
    "        -----------\n",
    "        k : int \n",
    "            邻居的个数\n",
    "        \"\"\"\n",
    "        self.k = k\n",
    "    def fit(self, X, y):\n",
    "        \"\"\"训练方法\n",
    "        \n",
    "        Parameters:\n",
    "        ------------\n",
    "        X: 类数组类型（特征矩阵） 形状为（样本数量， 特征数量）\n",
    "           待训练的样本特征（属性）\n",
    "        y: 类数组类型（目标标签），形状为（样本数量）\n",
    "           每个样本的目标值（标签）\n",
    "        \"\"\"    \n",
    "        # 将X和y都转换成ndarray数组的形式 方便统一操作\n",
    "        self.X = np.asarray(X)\n",
    "        self.y = np.asarray(y)\n",
    "        \n",
    "    def predict(self, X):\n",
    "        \"\"\"根据参数传递的样本，预测样本数据\n",
    "        Parameters\n",
    "        ------\n",
    "        X : 类数组类型 形状为:[样本数量，特征数量]\n",
    "            待训练的样本特征(属性)\n",
    "        Returns\n",
    "        ------\n",
    "        result : 数组类型\n",
    "                预测的结果\n",
    "        \"\"\"\n",
    "        X = np.asarray(X)\n",
    "        result = []\n",
    "        for x in X:\n",
    "            # 计算距离 计算与训练集中每个X的距离\n",
    "            dis = np.sqrt(np.sum((x - self.X) ** 2, axis=1))\n",
    "            #返回数组排序后 每个元素在原数组中（排序之前的数组）的索引\n",
    "            index = dis.argsort()\n",
    "            # 取前k个距离最近的索引 原数组中的索引\n",
    "            index = index[:self.k]\n",
    "            #计算均值 然后返回结果列表\n",
    "            result.append(np.mean(self.y[index]))\n",
    "        return np.asarray(result)\n",
    "    def predict2(self, X):\n",
    "        \"\"\"根据参数传递的样本，预测样本数据 !!带权重!!\n",
    "        \n",
    "        权重的计算方式：使用每个节点（邻居）距离的倒数 / 所有节点距离倒数之和\n",
    "        \n",
    "        Parameters\n",
    "        ------\n",
    "        X : 类数组类型 形状为:[样本数量，特征数量]\n",
    "            待训练的样本特征(属性)\n",
    "        Returns\n",
    "        ------\n",
    "        result : 数组类型\n",
    "                预测的结果\n",
    "        \"\"\"\n",
    "        X = np.asarray(X)\n",
    "        result = []\n",
    "        for x in X:\n",
    "            # 计算距离 计算与训练集中每个X的距离\n",
    "            dis = np.sqrt(np.sum((x - self.X) ** 2, axis=1))\n",
    "            #返回数组排序后 每个元素在原数组中（排序之前的数组）的索引\n",
    "            index = dis.argsort()\n",
    "            # 取前k个距离最近的索引 原数组中的索引\n",
    "            index = index[:self.k]\n",
    "            # 求所有邻居节点距离的倒数之和 加一个小小值是为了避免距离为0\n",
    "            s = np.sum(1 / (dis[index] + 0.001))\n",
    "            weight = (1 / (dis[index] + 0.001)) / s\n",
    "            #使用邻居节点的标签值 乘以对应的权重 然后相加求和得到最终的预测结果\n",
    "            result.append(np.sum(self.y[index] * weight))\n",
    "        return np.asarray(result)"
   ]
  },
  {
   "cell_type": "code",
   "execution_count": 36,
   "id": "46b39c78",
   "metadata": {},
   "outputs": [
    {
     "data": {
      "text/plain": [
       "array([1.32, 1.94, 1.26, 1.26, 1.98, 1.22, 2.12, 0.3 , 1.92, 1.4 , 1.18,\n",
       "       0.26, 1.88, 2.28, 1.72, 0.18, 1.1 , 1.34, 1.64, 1.24, 0.18, 0.22,\n",
       "       0.2 , 2.06, 1.18, 1.82, 0.22])"
      ]
     },
     "metadata": {},
     "output_type": "display_data"
    },
    {
     "data": {
      "text/plain": [
       "array([1.33760032, 1.97520882, 1.19702048, 1.25718133, 2.19471225,\n",
       "       1.1978922 , 2.10475545, 0.31428522, 1.9098273 , 1.38879853,\n",
       "       1.1902747 , 0.24757247, 1.92343332, 2.25388136, 1.68334648,\n",
       "       0.18046738, 1.07412341, 1.33225934, 1.74401891, 1.23506493,\n",
       "       0.1807207 , 0.2308537 , 0.2       , 2.04520936, 1.17609431,\n",
       "       1.83294464, 0.21704628])"
      ]
     },
     "metadata": {},
     "output_type": "display_data"
    },
    {
     "data": {
      "text/plain": [
       "array([1.5, 1.8, 1. , 1.3, 2.1, 1.2, 2.2, 0.2, 2.3, 1.3, 1. , 0.2, 1.6,\n",
       "       2.1, 2.3, 0.3, 1. , 1.2, 1.5, 1.3, 0.2, 0.4, 0.1, 2.1, 1.1, 1.5,\n",
       "       0.2])"
      ]
     },
     "metadata": {},
     "output_type": "display_data"
    },
    {
     "data": {
      "text/plain": [
       "0.037437037037037026"
      ]
     },
     "metadata": {},
     "output_type": "display_data"
    },
    {
     "data": {
      "text/plain": [
       "0.04058967860510454"
      ]
     },
     "metadata": {},
     "output_type": "display_data"
    }
   ],
   "source": [
    "t = data.sample(len(data), random_state=0)\n",
    "train_X = t.iloc[:120, :-1]\n",
    "train_y = t.iloc[:120, -1]\n",
    "test_X = t.iloc[120:, :-1]\n",
    "test_y = t.iloc[120:, -1]\n",
    "knn = KNN(k=5)\n",
    "knn.fit(train_X,train_y)\n",
    "result1 = knn.predict(test_X)\n",
    "result2 = knn.predict2(test_X)\n",
    "display(result1) \n",
    "display(result2) \n",
    "# 取平方是为了避免正负误差抵消\n",
    "display(test_y.values)\n",
    "display(np.mean((result1 - test_y) ** 2))\n",
    "display(np.mean((result2 - test_y) ** 2))"
   ]
  },
  {
   "cell_type": "code",
   "execution_count": 27,
   "id": "6dd38e93",
   "metadata": {},
   "outputs": [],
   "source": [
    "import matplotlib as mpl\n",
    "import matplotlib.pyplot as plt\n",
    "mpl.rcParams[\"font.family\"] = \"SimHei\"\n",
    "mpl.rcParams[\"axes.unicode_minus\"] = False"
   ]
  },
  {
   "cell_type": "code",
   "execution_count": 1,
   "id": "4c74a818",
   "metadata": {},
   "outputs": [
    {
     "ename": "NameError",
     "evalue": "name 'plt' is not defined",
     "output_type": "error",
     "traceback": [
      "\u001b[1;31m---------------------------------------------------------------------------\u001b[0m",
      "\u001b[1;31mNameError\u001b[0m                                 Traceback (most recent call last)",
      "Cell \u001b[1;32mIn[1], line 1\u001b[0m\n\u001b[1;32m----> 1\u001b[0m plt\u001b[38;5;241m.\u001b[39mfigure(figsize\u001b[38;5;241m=\u001b[39m(\u001b[38;5;241m10\u001b[39m,\u001b[38;5;241m10\u001b[39m))\n\u001b[0;32m      2\u001b[0m \u001b[38;5;66;03m# 绘制预测值\u001b[39;00m\n\u001b[0;32m      3\u001b[0m plt\u001b[38;5;241m.\u001b[39mplot(result2,  \u001b[38;5;124m\"\u001b[39m\u001b[38;5;124mro-\u001b[39m\u001b[38;5;124m\"\u001b[39m, label\u001b[38;5;241m=\u001b[39m\u001b[38;5;124m\"\u001b[39m\u001b[38;5;124m预测值\u001b[39m\u001b[38;5;124m\"\u001b[39m)\n",
      "\u001b[1;31mNameError\u001b[0m: name 'plt' is not defined"
     ]
    }
   ],
   "source": [
    "plt.figure(figsize=(10,10))\n",
    "# 绘制预测值\n",
    "plt.plot(result2,  \"ro-\", label=\"预测值\")\n",
    "# 绘制真实值\n",
    "plt.plot(test_y.values, \"go--\", label=\"真实值\")\n",
    "plt.title(\"KNN回归 连续值预测展示\")\n",
    "plt.xlabel(\"节点序号\")\n",
    "plt.ylabel(\"花瓣宽度\")\n",
    "plt.legend()\n",
    "plt.show()"
   ]
  },
  {
   "cell_type": "code",
   "execution_count": null,
   "id": "05344de5",
   "metadata": {},
   "outputs": [],
   "source": []
  }
 ],
 "metadata": {
  "celltoolbar": "无",
  "kernelspec": {
   "display_name": "Python 3 (ipykernel)",
   "language": "python",
   "name": "python3"
  },
  "language_info": {
   "codemirror_mode": {
    "name": "ipython",
    "version": 3
   },
   "file_extension": ".py",
   "mimetype": "text/x-python",
   "name": "python",
   "nbconvert_exporter": "python",
   "pygments_lexer": "ipython3",
   "version": "3.12.3"
  }
 },
 "nbformat": 4,
 "nbformat_minor": 5
}
